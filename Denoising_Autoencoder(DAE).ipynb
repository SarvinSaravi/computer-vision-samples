{
  "nbformat": 4,
  "nbformat_minor": 0,
  "metadata": {
    "colab": {
      "provenance": [],
      "toc_visible": true,
      "authorship_tag": "ABX9TyMTpJ3nKaUqG/6egJgHOiwq",
      "include_colab_link": true
    },
    "kernelspec": {
      "name": "python3",
      "display_name": "Python 3"
    },
    "language_info": {
      "name": "python"
    }
  },
  "cells": [
    {
      "cell_type": "markdown",
      "metadata": {
        "id": "view-in-github",
        "colab_type": "text"
      },
      "source": [
        "<a href=\"https://colab.research.google.com/github/SarvinSaravi/computer-vision-samples/blob/main/Denoising_Autoencoder(DAE).ipynb\" target=\"_parent\"><img src=\"https://colab.research.google.com/assets/colab-badge.svg\" alt=\"Open In Colab\"/></a>"
      ]
    },
    {
      "cell_type": "markdown",
      "source": [
        "# Import Libraries"
      ],
      "metadata": {
        "id": "qbotb8iVWrwl"
      }
    },
    {
      "cell_type": "code",
      "execution_count": 1,
      "metadata": {
        "id": "Hy8EV3I9UdPi"
      },
      "outputs": [],
      "source": [
        "\n",
        "import torch.utils.data\n",
        "from torchvision import datasets, transforms\n",
        "import numpy as np\n",
        "import pandas as pd\n",
        "\n",
        "from torch import nn, optim\n",
        "\n",
        "device = 'cuda' if torch.cuda.is_available() else 'cpu'"
      ]
    },
    {
      "cell_type": "markdown",
      "source": [
        "# Define Dataloader\n",
        "(Need VPN)"
      ],
      "metadata": {
        "id": "dheYJG91W3rB"
      }
    },
    {
      "cell_type": "code",
      "source": [
        "from torch.utils.data import DataLoader\n",
        "\n",
        "transform = transforms.Compose(\n",
        "    [transforms.ToTensor(), transforms.Normalize(0, 1)])\n",
        "# Load the MNIST dataset\n",
        "mnist_dataset_train = datasets.MNIST(\n",
        "    root='./data', train=True, download=True, transform=transform)\n",
        "# Load the test MNIST dataset\n",
        "mnist_dataset_test = datasets.MNIST(\n",
        "    root='./data', train=False, download=True, transform=transform)\n",
        "\n",
        "batch_size = 128\n",
        "train_loader = torch.utils.data.DataLoader(\n",
        "    mnist_dataset_train, batch_size=batch_size, shuffle=True)\n",
        "test_loader = torch.utils.data.DataLoader(\n",
        "    mnist_dataset_test, batch_size=5, shuffle=False)\n"
      ],
      "metadata": {
        "id": "wCtsaAfiXAFu",
        "colab": {
          "base_uri": "https://localhost:8080/"
        },
        "outputId": "6548a722-c683-4a07-f757-ea2f1a9614bd"
      },
      "execution_count": 4,
      "outputs": [
        {
          "output_type": "stream",
          "name": "stdout",
          "text": [
            "Downloading http://yann.lecun.com/exdb/mnist/train-images-idx3-ubyte.gz\n",
            "Failed to download (trying next):\n",
            "<urlopen error [Errno 111] Connection refused>\n",
            "\n",
            "Downloading https://ossci-datasets.s3.amazonaws.com/mnist/train-images-idx3-ubyte.gz\n",
            "Downloading https://ossci-datasets.s3.amazonaws.com/mnist/train-images-idx3-ubyte.gz to ./data/MNIST/raw/train-images-idx3-ubyte.gz\n"
          ]
        },
        {
          "output_type": "stream",
          "name": "stderr",
          "text": [
            "100%|██████████| 9.91M/9.91M [00:00<00:00, 17.9MB/s]\n"
          ]
        },
        {
          "output_type": "stream",
          "name": "stdout",
          "text": [
            "Extracting ./data/MNIST/raw/train-images-idx3-ubyte.gz to ./data/MNIST/raw\n",
            "\n",
            "Downloading http://yann.lecun.com/exdb/mnist/train-labels-idx1-ubyte.gz\n",
            "Failed to download (trying next):\n",
            "<urlopen error [Errno 111] Connection refused>\n",
            "\n",
            "Downloading https://ossci-datasets.s3.amazonaws.com/mnist/train-labels-idx1-ubyte.gz\n",
            "Downloading https://ossci-datasets.s3.amazonaws.com/mnist/train-labels-idx1-ubyte.gz to ./data/MNIST/raw/train-labels-idx1-ubyte.gz\n"
          ]
        },
        {
          "output_type": "stream",
          "name": "stderr",
          "text": [
            "100%|██████████| 28.9k/28.9k [00:00<00:00, 499kB/s]\n"
          ]
        },
        {
          "output_type": "stream",
          "name": "stdout",
          "text": [
            "Extracting ./data/MNIST/raw/train-labels-idx1-ubyte.gz to ./data/MNIST/raw\n",
            "\n",
            "Downloading http://yann.lecun.com/exdb/mnist/t10k-images-idx3-ubyte.gz\n",
            "Failed to download (trying next):\n",
            "<urlopen error [Errno 111] Connection refused>\n",
            "\n",
            "Downloading https://ossci-datasets.s3.amazonaws.com/mnist/t10k-images-idx3-ubyte.gz\n",
            "Downloading https://ossci-datasets.s3.amazonaws.com/mnist/t10k-images-idx3-ubyte.gz to ./data/MNIST/raw/t10k-images-idx3-ubyte.gz\n"
          ]
        },
        {
          "output_type": "stream",
          "name": "stderr",
          "text": [
            "100%|██████████| 1.65M/1.65M [00:00<00:00, 4.45MB/s]\n"
          ]
        },
        {
          "output_type": "stream",
          "name": "stdout",
          "text": [
            "Extracting ./data/MNIST/raw/t10k-images-idx3-ubyte.gz to ./data/MNIST/raw\n",
            "\n",
            "Downloading http://yann.lecun.com/exdb/mnist/t10k-labels-idx1-ubyte.gz\n",
            "Failed to download (trying next):\n",
            "<urlopen error [Errno 111] Connection refused>\n",
            "\n",
            "Downloading https://ossci-datasets.s3.amazonaws.com/mnist/t10k-labels-idx1-ubyte.gz\n",
            "Downloading https://ossci-datasets.s3.amazonaws.com/mnist/t10k-labels-idx1-ubyte.gz to ./data/MNIST/raw/t10k-labels-idx1-ubyte.gz\n"
          ]
        },
        {
          "output_type": "stream",
          "name": "stderr",
          "text": [
            "100%|██████████| 4.54k/4.54k [00:00<00:00, 2.27MB/s]"
          ]
        },
        {
          "output_type": "stream",
          "name": "stdout",
          "text": [
            "Extracting ./data/MNIST/raw/t10k-labels-idx1-ubyte.gz to ./data/MNIST/raw\n",
            "\n"
          ]
        },
        {
          "output_type": "stream",
          "name": "stderr",
          "text": [
            "\n"
          ]
        }
      ]
    },
    {
      "cell_type": "markdown",
      "source": [
        "# Define the Model"
      ],
      "metadata": {
        "id": "fPK08Rjrb0Pd"
      }
    },
    {
      "cell_type": "code",
      "source": [
        "class DAE(nn.Module):\n",
        "\tdef __init__(self):\n",
        "\t\tsuper().__init__()\n",
        "\n",
        "\t\tself.fc1 = nn.Linear(784, 512)\n",
        "\t\tself.fc2 = nn.Linear(512, 256)\n",
        "\t\tself.fc3 = nn.Linear(256, 128)\n",
        "\n",
        "\t\tself.fc4 = nn.Linear(128, 256)\n",
        "\t\tself.fc5 = nn.Linear(256, 512)\n",
        "\t\tself.fc6 = nn.Linear(512, 784)\n",
        "\n",
        "\t\tself.relu = nn.ReLU()\n",
        "\t\tself.sigmoid = nn.Sigmoid()\n",
        "\n",
        "\tdef encode(self, x):\n",
        "\n",
        "\t\th1 = self.relu(self.fc1(x))\n",
        "\t\th2 = self.relu(self.fc2(h1))\n",
        "\t\treturn self.relu(self.fc3(h2))\n",
        "\n",
        "\tdef decode(self, z):\n",
        "\t\th4 = self.relu(self.fc4(z))\n",
        "\t\th5 = self.relu(self.fc5(h4))\n",
        "\t\treturn self.sigmoid(self.fc6(h5))\n",
        "\n",
        "\tdef forward(self, x):\n",
        "\t\tq = self.encode(x.view(-1, 784))\n",
        "\n",
        "\t\treturn self.decode(q)\n"
      ],
      "metadata": {
        "id": "VER4KC8jb3GS"
      },
      "execution_count": 5,
      "outputs": []
    },
    {
      "cell_type": "markdown",
      "source": [
        "# Define the train function\n",
        "\n",
        "Also add noise (we are passing a noisy input to the encoder by adding *gaussian noise*)\n",
        "\n",
        "Prints the training progress every 100 batches."
      ],
      "metadata": {
        "id": "QoxT1MRnjCWB"
      }
    },
    {
      "cell_type": "code",
      "source": [
        "def train(epoch, model, train_loader, optimizer, cuda=True):\n",
        "\tmodel.train()\n",
        "\ttrain_loss = 0\n",
        "\tfor batch_idx, (data, _) in enumerate(train_loader):\n",
        "\t\tdata.to(device)\n",
        "\t\toptimizer.zero_grad()\n",
        "\n",
        "\t\tdata_noise = torch.randn(data.shape).to(device)\n",
        "\t\tdata_noise = data + data_noise\n",
        "\n",
        "\t\trecon_batch = model(data_noise.to(device))\n",
        "\t\tloss = criterion(recon_batch, data.view(data.size(0), -1).to(device))\n",
        "\t\tloss.backward()\n",
        "\n",
        "\t\ttrain_loss += loss.item() * len(data)\n",
        "\t\toptimizer.step()\n",
        "\n",
        "\t\tif batch_idx % 100 == 0:\n",
        "\t\t\tprint('Train Epoch: {} [{}/{} ({:.0f}%)]\\tLoss: {:.6f}'.format(epoch, batch_idx * len(data), len(train_loader.dataset),\n",
        "\t\t\t\t\t\t\t\t\t\t\t\t\t\t\t\t\t\t100. * batch_idx /\n",
        "\t\t\t\t\t\t\t\t\t\t\t\t\t\t\t\t\t\tlen(train_loader),\n",
        "\t\t\t\t\t\t\t\t\t\t\t\t\t\t\t\t\t\tloss.item()))\n",
        "\n",
        "\tprint('====> Epoch: {} Average loss: {:.4f}'.format(\n",
        "\t\tepoch, train_loss / len(train_loader.dataset)))\n"
      ],
      "metadata": {
        "id": "WvBPNdFkjEvc"
      },
      "execution_count": 6,
      "outputs": []
    },
    {
      "cell_type": "markdown",
      "source": [
        "# Define model, optimizer, and loss function\n",
        "\n",
        "Initiate the model\n",
        "\n",
        "Set the Optimizer (Adam optimizer) + The learning rate is set to 1e-2 (0.01)\n",
        "\n",
        "Consider Mean Squared Error (MSE) as loss function.\n",
        "Another loss was Binary Cross-Entropy (log-loss)"
      ],
      "metadata": {
        "id": "yQp4GHzXk7rQ"
      }
    },
    {
      "cell_type": "code",
      "source": [
        "epochs = 10\n",
        "\n",
        "model = DAE().to(device)\n",
        "optimizer = optim.Adam(model.parameters(), lr=1e-2)\n",
        "criterion = nn.MSELoss()\n"
      ],
      "metadata": {
        "id": "mVFHS967k-HL"
      },
      "execution_count": 7,
      "outputs": []
    },
    {
      "cell_type": "markdown",
      "source": [
        "# Train the model"
      ],
      "metadata": {
        "id": "m8K2aBpLm56L"
      }
    },
    {
      "cell_type": "code",
      "source": [
        "for epoch in range(1, epochs + 1):\n",
        "\ttrain(epoch, model, train_loader, optimizer, True)"
      ],
      "metadata": {
        "colab": {
          "base_uri": "https://localhost:8080/"
        },
        "id": "lXGClMNTm-jn",
        "outputId": "e53403b6-21b9-45a4-9c49-f366b7a7d58b"
      },
      "execution_count": 8,
      "outputs": [
        {
          "output_type": "stream",
          "name": "stdout",
          "text": [
            "Train Epoch: 1 [0/60000 (0%)]\tLoss: 0.231421\n",
            "Train Epoch: 1 [12800/60000 (21%)]\tLoss: 0.053573\n",
            "Train Epoch: 1 [25600/60000 (43%)]\tLoss: 0.051850\n",
            "Train Epoch: 1 [38400/60000 (64%)]\tLoss: 0.048457\n",
            "Train Epoch: 1 [51200/60000 (85%)]\tLoss: 0.041757\n",
            "====> Epoch: 1 Average loss: 0.0519\n",
            "Train Epoch: 2 [0/60000 (0%)]\tLoss: 0.041968\n",
            "Train Epoch: 2 [12800/60000 (21%)]\tLoss: 0.039399\n",
            "Train Epoch: 2 [25600/60000 (43%)]\tLoss: 0.040853\n",
            "Train Epoch: 2 [38400/60000 (64%)]\tLoss: 0.037309\n",
            "Train Epoch: 2 [51200/60000 (85%)]\tLoss: 0.039329\n",
            "====> Epoch: 2 Average loss: 0.0407\n",
            "Train Epoch: 3 [0/60000 (0%)]\tLoss: 0.039079\n",
            "Train Epoch: 3 [12800/60000 (21%)]\tLoss: 0.039143\n",
            "Train Epoch: 3 [25600/60000 (43%)]\tLoss: 0.039880\n",
            "Train Epoch: 3 [38400/60000 (64%)]\tLoss: 0.041133\n",
            "Train Epoch: 3 [51200/60000 (85%)]\tLoss: 0.038393\n",
            "====> Epoch: 3 Average loss: 0.0391\n",
            "Train Epoch: 4 [0/60000 (0%)]\tLoss: 0.035678\n",
            "Train Epoch: 4 [12800/60000 (21%)]\tLoss: 0.040306\n",
            "Train Epoch: 4 [25600/60000 (43%)]\tLoss: 0.036403\n",
            "Train Epoch: 4 [38400/60000 (64%)]\tLoss: 0.038952\n",
            "Train Epoch: 4 [51200/60000 (85%)]\tLoss: 0.041161\n",
            "====> Epoch: 4 Average loss: 0.0384\n",
            "Train Epoch: 5 [0/60000 (0%)]\tLoss: 0.035271\n",
            "Train Epoch: 5 [12800/60000 (21%)]\tLoss: 0.039353\n",
            "Train Epoch: 5 [25600/60000 (43%)]\tLoss: 0.040266\n",
            "Train Epoch: 5 [38400/60000 (64%)]\tLoss: 0.037896\n",
            "Train Epoch: 5 [51200/60000 (85%)]\tLoss: 0.039190\n",
            "====> Epoch: 5 Average loss: 0.0381\n",
            "Train Epoch: 6 [0/60000 (0%)]\tLoss: 0.037656\n",
            "Train Epoch: 6 [12800/60000 (21%)]\tLoss: 0.038116\n",
            "Train Epoch: 6 [25600/60000 (43%)]\tLoss: 0.038283\n",
            "Train Epoch: 6 [38400/60000 (64%)]\tLoss: 0.037505\n",
            "Train Epoch: 6 [51200/60000 (85%)]\tLoss: 0.036514\n",
            "====> Epoch: 6 Average loss: 0.0377\n",
            "Train Epoch: 7 [0/60000 (0%)]\tLoss: 0.037353\n",
            "Train Epoch: 7 [12800/60000 (21%)]\tLoss: 0.040992\n",
            "Train Epoch: 7 [25600/60000 (43%)]\tLoss: 0.037663\n",
            "Train Epoch: 7 [38400/60000 (64%)]\tLoss: 0.038923\n",
            "Train Epoch: 7 [51200/60000 (85%)]\tLoss: 0.036929\n",
            "====> Epoch: 7 Average loss: 0.0376\n",
            "Train Epoch: 8 [0/60000 (0%)]\tLoss: 0.037122\n",
            "Train Epoch: 8 [12800/60000 (21%)]\tLoss: 0.038283\n",
            "Train Epoch: 8 [25600/60000 (43%)]\tLoss: 0.037341\n",
            "Train Epoch: 8 [38400/60000 (64%)]\tLoss: 0.039152\n",
            "Train Epoch: 8 [51200/60000 (85%)]\tLoss: 0.036606\n",
            "====> Epoch: 8 Average loss: 0.0372\n",
            "Train Epoch: 9 [0/60000 (0%)]\tLoss: 0.038732\n",
            "Train Epoch: 9 [12800/60000 (21%)]\tLoss: 0.040159\n",
            "Train Epoch: 9 [25600/60000 (43%)]\tLoss: 0.037478\n",
            "Train Epoch: 9 [38400/60000 (64%)]\tLoss: 0.036648\n",
            "Train Epoch: 9 [51200/60000 (85%)]\tLoss: 0.038333\n",
            "====> Epoch: 9 Average loss: 0.0370\n",
            "Train Epoch: 10 [0/60000 (0%)]\tLoss: 0.036574\n",
            "Train Epoch: 10 [12800/60000 (21%)]\tLoss: 0.034884\n",
            "Train Epoch: 10 [25600/60000 (43%)]\tLoss: 0.035226\n",
            "Train Epoch: 10 [38400/60000 (64%)]\tLoss: 0.036684\n",
            "Train Epoch: 10 [51200/60000 (85%)]\tLoss: 0.038293\n",
            "====> Epoch: 10 Average loss: 0.0369\n"
          ]
        }
      ]
    },
    {
      "cell_type": "markdown",
      "source": [
        "# Performance of the model\n",
        "\n",
        "take 5 data samples from our test data loader add noise to it and pass it through our model."
      ],
      "metadata": {
        "id": "KZxmniHvqcJ5"
      }
    },
    {
      "cell_type": "code",
      "source": [
        "import matplotlib.pyplot as plt\n",
        "\n",
        "for batch_idx, (data, labels) in enumerate(test_loader):\n",
        "\tdata.to(device)\n",
        "\toptimizer.zero_grad()\n",
        "\n",
        "\tdata_noise = torch.randn(data.shape).to(device)\n",
        "\tdata_noise = data + data_noise\n",
        "\n",
        "\trecon_batch = model(data_noise.to(device))\n",
        "\tbreak\n",
        "\n",
        "\n",
        "plt.figure(figsize=(20, 12))\n",
        "for i in range(5):\n",
        "\n",
        "\tprint(f\" Image {i} with label {labels[i]}\t\t\t \", end=\"\")\n",
        "\tplt.subplot(3, 5, 1+i)\n",
        "\tplt.imshow(data_noise[i, :, :, :].view(\n",
        "\t\t28, 28).detach().numpy(), cmap='binary')\n",
        "\tplt.subplot(3, 5, 6+i)\n",
        "\tplt.imshow(recon_batch[i, :].view(28, 28).detach().numpy(), cmap='binary')\n",
        "\tplt.axis('off')\n",
        "\tplt.subplot(3, 5, 11+i)\n",
        "\tplt.imshow(data[i, :, :, :].view(28, 28).detach().numpy(), cmap='binary')\n",
        "\tplt.axis('off')\n",
        "plt.show()\n"
      ],
      "metadata": {
        "colab": {
          "base_uri": "https://localhost:8080/",
          "height": 608
        },
        "id": "QXi9wECIqguf",
        "outputId": "2b20b646-d146-4a80-caf1-f24787c2df3f"
      },
      "execution_count": 9,
      "outputs": [
        {
          "output_type": "stream",
          "name": "stdout",
          "text": [
            " Image 0 with label 7\t\t\t  Image 1 with label 2\t\t\t  Image 2 with label 1\t\t\t  Image 3 with label 0\t\t\t  Image 4 with label 4\t\t\t "
          ]
        },
        {
          "output_type": "display_data",
          "data": {
            "text/plain": [
              "<Figure size 2000x1200 with 15 Axes>"
            ],
            "image/png": "[encoded data removed]"
          },
          "metadata": {}
        }
      ]
    },
    {
      "cell_type": "markdown",
      "source": [
        "*   The first row is the corrupted image\n",
        "*   The second row is the reconstructed image\n",
        "*   The last row is the actual image before addition of noise\n",
        "\n"
      ],
      "metadata": {
        "id": "kJdfA1KHrjPu"
      }
    }
  ]
}